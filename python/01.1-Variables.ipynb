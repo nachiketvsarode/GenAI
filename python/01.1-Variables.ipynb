{
 "cells": [
  {
   "cell_type": "code",
   "execution_count": 9,
   "id": "9a5fc954",
   "metadata": {},
   "outputs": [
    {
     "name": "stdout",
     "output_type": "stream",
     "text": [
      "age : 32\n"
     ]
    },
    {
     "ename": "TypeError",
     "evalue": "'float' object is not callable",
     "output_type": "error",
     "traceback": [
      "\u001b[31m---------------------------------------------------------------------------\u001b[39m",
      "\u001b[31mTypeError\u001b[39m                                 Traceback (most recent call last)",
      "\u001b[36mCell\u001b[39m\u001b[36m \u001b[39m\u001b[32mIn[9]\u001b[39m\u001b[32m, line 12\u001b[39m\n\u001b[32m      9\u001b[39m \u001b[38;5;66;03m## Printing the variables \u001b[39;00m\n\u001b[32m     11\u001b[39m \u001b[38;5;28mprint\u001b[39m(\u001b[33m\"\u001b[39m\u001b[33mage :\u001b[39m\u001b[33m\"\u001b[39m, age)\n\u001b[32m---> \u001b[39m\u001b[32m12\u001b[39m \u001b[43mheight\u001b[49m\u001b[43m(\u001b[49m\u001b[33;43m\"\u001b[39;49m\u001b[33;43mHeight:\u001b[39;49m\u001b[33;43m\"\u001b[39;49m\u001b[43m,\u001b[49m\u001b[43m \u001b[49m\u001b[43mheight\u001b[49m\u001b[43m)\u001b[49m\n\u001b[32m     13\u001b[39m \u001b[38;5;28mprint\u001b[39m(\u001b[33m\"\u001b[39m\u001b[33mName:\u001b[39m\u001b[33m\"\u001b[39m, name)\n",
      "\u001b[31mTypeError\u001b[39m: 'float' object is not callable"
     ]
    }
   ],
   "source": [
    "##Declaring and assigning variables \n",
    "\n",
    "age=32\n",
    "height=6.1\n",
    "name=\"Nachiket\"\n",
    "is_student=True\n",
    "\n",
    "\n",
    "## Printing the variables \n",
    "\n",
    "print(\"age :\", age)\n",
    "height(\"Height:\", height)\n",
    "print(\"Name:\", name)\n",
    "\n"
   ]
  },
  {
   "cell_type": "code",
   "execution_count": null,
   "id": "0c8edf73",
   "metadata": {},
   "outputs": [],
   "source": [
    "## Naming convention\n",
    "## Varibale names should be descriptive\n",
    "## They must start with a letter or an '_' and contain letters numbers and underscores\n",
    "## variables names are case sensitive\n",
    "\n",
    "#valid variable names \n",
    "\n",
    "first_name='Nachiket'\n",
    "last_name='Sarode'\n",
    "\n"
   ]
  },
  {
   "cell_type": "code",
   "execution_count": null,
   "id": "a47b56ae",
   "metadata": {},
   "outputs": [],
   "source": [
    "## Invalid variable names \n",
    "\n",
    "#2age=30\n",
    "\n",
    "#first-name=\"Nachiket\"\n",
    "\n",
    "#@name=\"Nachiket\""
   ]
  },
  {
   "cell_type": "code",
   "execution_count": null,
   "id": "8669618d",
   "metadata": {},
   "outputs": [],
   "source": [
    "#case sensitivity \n",
    "\n",
    "name=\"Nachiket\"\n",
    "Name=\"Nachiket\""
   ]
  },
  {
   "cell_type": "code",
   "execution_count": null,
   "id": "25e7dac6",
   "metadata": {},
   "outputs": [
    {
     "name": "stdout",
     "output_type": "stream",
     "text": [
      "<class 'str'>\n"
     ]
    }
   ],
   "source": [
    "## Understanding Variable types \n",
    "## Python is dynamically typed, type of a variable is determined at runtime\n",
    "age=25\n",
    "height=6.1 #float\n",
    "name=\"Nachiket\"\n",
    "is_student=True #bool\n",
    "\n",
    "print(type(name))"
   ]
  },
  {
   "cell_type": "code",
   "execution_count": null,
   "id": "c075a0f4",
   "metadata": {},
   "outputs": [
    {
     "name": "stdout",
     "output_type": "stream",
     "text": [
      "<class 'int'>\n",
      "25\n",
      "<class 'str'>\n"
     ]
    }
   ],
   "source": [
    "## Type checking and conversion\n",
    "\n",
    "type(height)\n",
    "\n",
    "age=25\n",
    "print(type(age))\n",
    "\n",
    "age_str=str(age)\n",
    "\n",
    "print(age_str)\n",
    "print(type(age_str))\n",
    "\n"
   ]
  },
  {
   "cell_type": "code",
   "execution_count": null,
   "id": "bc5675c1",
   "metadata": {},
   "outputs": [
    {
     "name": "stdout",
     "output_type": "stream",
     "text": [
      "<class 'int'>\n"
     ]
    }
   ],
   "source": [
    "age='25'\n",
    "print(type(int(age)))\n",
    "\n"
   ]
  },
  {
   "cell_type": "code",
   "execution_count": null,
   "id": "04413a3a",
   "metadata": {},
   "outputs": [
    {
     "name": "stdout",
     "output_type": "stream",
     "text": [
      "<class 'float'>\n"
     ]
    }
   ],
   "source": [
    "height=5.11\n",
    "type(height)\n",
    "print(type(height))\n",
    "\n"
   ]
  },
  {
   "cell_type": "code",
   "execution_count": null,
   "id": "048d3550",
   "metadata": {},
   "outputs": [
    {
     "data": {
      "text/plain": [
       "6.0"
      ]
     },
     "execution_count": 8,
     "metadata": {},
     "output_type": "execute_result"
    }
   ],
   "source": [
    "float(int(height))\n",
    "\n"
   ]
  },
  {
   "cell_type": "code",
   "execution_count": 10,
   "id": "fd51b71c",
   "metadata": {},
   "outputs": [
    {
     "name": "stdout",
     "output_type": "stream",
     "text": [
      "10 <class 'int'>\n",
      "Hello <class 'str'>\n",
      "3.14 <class 'float'>\n"
     ]
    }
   ],
   "source": [
    "## Dynamic Typing\n",
    "## Python allowes type of varibale to change as the program executes !!!\n",
    "\n",
    "var = 10\n",
    "\n",
    "print(var, type(var))\n",
    "\n",
    "var = \"Hello\"\n",
    "print(var, type(var))\n",
    "\n",
    "var=3.14\n",
    "print(var,type(var))\n",
    "\n",
    "\n",
    "\n"
   ]
  },
  {
   "cell_type": "code",
   "execution_count": null,
   "id": "2acdd7eb",
   "metadata": {},
   "outputs": [
    {
     "name": "stdout",
     "output_type": "stream",
     "text": [
      "31\n",
      "31 <class 'str'>\n"
     ]
    }
   ],
   "source": [
    "age=input(\"What is the age\")\n",
    "print(age)\n",
    "print(age,type(age))\n",
    "\n",
    "\n",
    "\n",
    "      \n"
   ]
  },
  {
   "cell_type": "code",
   "execution_count": null,
   "id": "7c321547",
   "metadata": {},
   "outputs": [],
   "source": []
  }
 ],
 "metadata": {
  "kernelspec": {
   "display_name": "Python 3",
   "language": "python",
   "name": "python3"
  },
  "language_info": {
   "codemirror_mode": {
    "name": "ipython",
    "version": 3
   },
   "file_extension": ".py",
   "mimetype": "text/x-python",
   "name": "python",
   "nbconvert_exporter": "python",
   "pygments_lexer": "ipython3",
   "version": "3.12.0"
  }
 },
 "nbformat": 4,
 "nbformat_minor": 5
}
