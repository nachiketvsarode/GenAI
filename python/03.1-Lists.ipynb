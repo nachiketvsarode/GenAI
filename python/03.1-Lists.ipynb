{
 "cells": [
  {
   "cell_type": "code",
   "execution_count": 4,
   "id": "ce284a95",
   "metadata": {},
   "outputs": [
    {
     "name": "stdout",
     "output_type": "stream",
     "text": [
      "<class 'list'>\n"
     ]
    }
   ],
   "source": [
    "lst=[]\n",
    "print(type(lst))"
   ]
  },
  {
   "cell_type": "code",
   "execution_count": 5,
   "id": "7c276f19",
   "metadata": {},
   "outputs": [
    {
     "name": "stdout",
     "output_type": "stream",
     "text": [
      "['nachiket', 'jack', 'jacob', 1, 2, 3, 4, 5]\n"
     ]
    }
   ],
   "source": [
    "names=[\"nachiket\",\"jack\",\"jacob\",1,2,3,4,5]\n",
    "print(names)"
   ]
  },
  {
   "cell_type": "code",
   "execution_count": 7,
   "id": "d54130fe",
   "metadata": {},
   "outputs": [],
   "source": [
    "### Accessing list items\n",
    "fruits=[\"apple\",\"banana\",\"cherry\",\"kiwi\"]\n"
   ]
  },
  {
   "cell_type": "code",
   "execution_count": 13,
   "id": "581e4266",
   "metadata": {},
   "outputs": [
    {
     "name": "stdout",
     "output_type": "stream",
     "text": [
      "cherry\n",
      "kiwi\n"
     ]
    }
   ],
   "source": [
    "fruits[0]\n",
    "print(fruits[ 2])\n",
    "print(fruits[-1]) #-1 means last element in list"
   ]
  },
  {
   "cell_type": "code",
   "execution_count": null,
   "id": "11ccb130",
   "metadata": {},
   "outputs": [],
   "source": [
    "print(fruits[1:3])\n",
    "print(fruits[0:])"
   ]
  }
 ],
 "metadata": {
  "kernelspec": {
   "display_name": "Python 3",
   "language": "python",
   "name": "python3"
  },
  "language_info": {
   "codemirror_mode": {
    "name": "ipython",
    "version": 3
   },
   "file_extension": ".py",
   "mimetype": "text/x-python",
   "name": "python",
   "nbconvert_exporter": "python",
   "pygments_lexer": "ipython3",
   "version": "3.12.0"
  }
 },
 "nbformat": 4,
 "nbformat_minor": 5
}
