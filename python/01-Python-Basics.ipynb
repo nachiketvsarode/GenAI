{
 "cells": [
  {
   "cell_type": "code",
   "execution_count": 26,
   "id": "4b017fe7",
   "metadata": {},
   "outputs": [
    {
     "name": "stdout",
     "output_type": "stream",
     "text": [
      "Nachiket\n",
      "Sarode\n"
     ]
    }
   ],
   "source": [
    "## Basic Synax Rules in Python\n",
    "## Case sensitivity\n",
    "\n",
    "''' \n",
    "This is a multi line comment // does not work in ipynb file\n",
    "\n",
    "'''\n",
    "name=\"Nachiket\"\n",
    "Name=\"Sarode\"\n",
    "\n",
    "print(name)\n",
    "print(Name)\n",
    " "
   ]
  },
  {
   "cell_type": "code",
   "execution_count": 27,
   "id": "c93b5395",
   "metadata": {},
   "outputs": [
    {
     "name": "stdout",
     "output_type": "stream",
     "text": [
      "32\n",
      "32\n"
     ]
    }
   ],
   "source": [
    "## Indentation\n",
    "## Python uses indentation to define blocks of code, Consistent use of spaces (commomnly4) or a tab is required.\n",
    "\n",
    "age=32\n",
    "if age>30:\n",
    "    print(age)\n",
    "\n",
    "print(age)"
   ]
  },
  {
   "cell_type": "code",
   "execution_count": 28,
   "id": "4ee2fe72",
   "metadata": {},
   "outputs": [
    {
     "name": "stdout",
     "output_type": "stream",
     "text": [
      "Hello World\n"
     ]
    }
   ],
   "source": [
    "## This is a single line comment \n",
    "\n",
    "print(\"Hello World\")"
   ]
  },
  {
   "cell_type": "code",
   "execution_count": 29,
   "id": "d2002f65",
   "metadata": {},
   "outputs": [
    {
     "name": "stdout",
     "output_type": "stream",
     "text": [
      "51\n"
     ]
    }
   ],
   "source": [
    "## Line continution , use backslash (\\) \n",
    "\n",
    "total = 1+2+3+4+5+6+\\\n",
    "10+20\n",
    "\n",
    "print(total)"
   ]
  },
  {
   "cell_type": "code",
   "execution_count": 30,
   "id": "db8a10d6",
   "metadata": {},
   "outputs": [
    {
     "name": "stdout",
     "output_type": "stream",
     "text": [
      "15\n"
     ]
    }
   ],
   "source": [
    "#multiple statements on a single line \n",
    "\n",
    "x=5; y=10; z=x+y\n",
    "print(z)\n"
   ]
  },
  {
   "cell_type": "code",
   "execution_count": 31,
   "id": "06a297c5",
   "metadata": {},
   "outputs": [],
   "source": [
    "# variable assignment \n",
    "age = 32\n",
    "name = \"Nachiket\"\n"
   ]
  },
  {
   "cell_type": "code",
   "execution_count": 32,
   "id": "a8a9a19a",
   "metadata": {},
   "outputs": [
    {
     "data": {
      "text/plain": [
       "str"
      ]
     },
     "execution_count": 32,
     "metadata": {},
     "output_type": "execute_result"
    }
   ],
   "source": [
    "\n",
    "\n",
    "type(age)\n",
    "\n",
    "type(name)"
   ]
  },
  {
   "cell_type": "code",
   "execution_count": 33,
   "id": "062ea055",
   "metadata": {},
   "outputs": [
    {
     "name": "stdout",
     "output_type": "stream",
     "text": [
      "<class 'int'>\n",
      "<class 'str'>\n"
     ]
    }
   ],
   "source": [
    "# Type inference\n",
    "variable=10\n",
    "print(type(variable))\n",
    "variable = \"Nachiket\"\n",
    "print(type(variable))\n",
    "\n"
   ]
  },
  {
   "cell_type": "code",
   "execution_count": null,
   "id": "4c194fc8",
   "metadata": {},
   "outputs": [
    {
     "ename": "NameError",
     "evalue": "name 'b' is not defined",
     "output_type": "error",
     "traceback": [
      "\u001b[31m---------------------------------------------------------------------------\u001b[39m",
      "\u001b[31mNameError\u001b[39m                                 Traceback (most recent call last)",
      "\u001b[36mCell\u001b[39m\u001b[36m \u001b[39m\u001b[32mIn[34]\u001b[39m\u001b[32m, line 1\u001b[39m\n\u001b[32m----> \u001b[39m\u001b[32m1\u001b[39m a =\u001b[43mb\u001b[49m\n",
      "\u001b[31mNameError\u001b[39m: name 'b' is not defined"
     ]
    }
   ],
   "source": [
    "## Name error\n",
    "a =b\n"
   ]
  },
  {
   "cell_type": "code",
   "execution_count": null,
   "id": "844a1fe6",
   "metadata": {},
   "outputs": [],
   "source": [
    "## Code example of indentation\n",
    "\n",
    "if True:\n",
    "    print(\"Correct Indentation\")\n",
    "\n",
    "    if False:\n",
    "        print(\"This wont print\")\n",
    "    print(\"This will print\")\n",
    "print(\"Outside theif block\")"
   ]
  }
 ],
 "metadata": {
  "kernelspec": {
   "display_name": "Python 3",
   "language": "python",
   "name": "python3"
  },
  "language_info": {
   "codemirror_mode": {
    "name": "ipython",
    "version": 3
   },
   "file_extension": ".py",
   "mimetype": "text/x-python",
   "name": "python",
   "nbconvert_exporter": "python",
   "pygments_lexer": "ipython3",
   "version": "3.12.0"
  }
 },
 "nbformat": 4,
 "nbformat_minor": 5
}
