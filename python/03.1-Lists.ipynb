{
 "cells": [
  {
   "cell_type": "code",
   "execution_count": 4,
   "id": "ce284a95",
   "metadata": {},
   "outputs": [
    {
     "name": "stdout",
     "output_type": "stream",
     "text": [
      "<class 'list'>\n"
     ]
    }
   ],
   "source": [
    "lst=[]\n",
    "print(type(lst))"
   ]
  },
  {
   "cell_type": "code",
   "execution_count": 5,
   "id": "7c276f19",
   "metadata": {},
   "outputs": [
    {
     "name": "stdout",
     "output_type": "stream",
     "text": [
      "['nachiket', 'jack', 'jacob', 1, 2, 3, 4, 5]\n"
     ]
    }
   ],
   "source": [
    "names=[\"nachiket\",\"jack\",\"jacob\",1,2,3,4,5]\n",
    "print(names)"
   ]
  },
  {
   "cell_type": "code",
   "execution_count": 7,
   "id": "d54130fe",
   "metadata": {},
   "outputs": [],
   "source": [
    "### Accessing list items\n",
    "fruits=[\"apple\",\"banana\",\"cherry\",\"kiwi\"]\n"
   ]
  },
  {
   "cell_type": "code",
   "execution_count": 13,
   "id": "581e4266",
   "metadata": {},
   "outputs": [
    {
     "name": "stdout",
     "output_type": "stream",
     "text": [
      "cherry\n",
      "kiwi\n"
     ]
    }
   ],
   "source": [
    "fruits[0]\n",
    "print(fruits[ 2])\n",
    "print(fruits[-1]) #-1 means last element in list"
   ]
  },
  {
   "cell_type": "code",
   "execution_count": 14,
   "id": "11ccb130",
   "metadata": {},
   "outputs": [
    {
     "name": "stdout",
     "output_type": "stream",
     "text": [
      "['banana', 'cherry']\n",
      "['apple', 'banana', 'cherry', 'kiwi']\n"
     ]
    }
   ],
   "source": [
    "print(fruits[1:3])\n",
    "print(fruits[0:])"
   ]
  },
  {
   "cell_type": "code",
   "execution_count": 16,
   "id": "511cb2ae",
   "metadata": {},
   "outputs": [
    {
     "name": "stdout",
     "output_type": "stream",
     "text": [
      "['apple', 'Watermelon', 'cherry', 'kiwi']\n"
     ]
    }
   ],
   "source": [
    "## Modifying the lists element\n",
    "fruits[1]=\"Watermelon\"\n",
    "print(fruits)"
   ]
  },
  {
   "cell_type": "code",
   "execution_count": 17,
   "id": "75ab83c5",
   "metadata": {},
   "outputs": [
    {
     "data": {
      "text/plain": [
       "['apple', 'Watermelon', 'cherry', 'kiwi']"
      ]
     },
     "execution_count": 17,
     "metadata": {},
     "output_type": "execute_result"
    }
   ],
   "source": [
    "fruits"
   ]
  },
  {
   "cell_type": "code",
   "execution_count": 18,
   "id": "b59000f3",
   "metadata": {},
   "outputs": [
    {
     "data": {
      "text/plain": [
       "['Watermelon', 'cherry', 'kiwi']"
      ]
     },
     "execution_count": 18,
     "metadata": {},
     "output_type": "execute_result"
    }
   ],
   "source": [
    "fruits[1:]"
   ]
  },
  {
   "cell_type": "code",
   "execution_count": null,
   "id": "ef1e4b8f",
   "metadata": {},
   "outputs": [
    {
     "name": "stdout",
     "output_type": "stream",
     "text": [
      "['apple', 'Watermelon', 'cherry', 'kiwi', 'orange']\n"
     ]
    }
   ],
   "source": [
    "## List method \"appen\"\n",
    "fruits.append(\"orange\") \n",
    "print(fruits)"
   ]
  },
  {
   "cell_type": "code",
   "execution_count": 21,
   "id": "e0e4de9e",
   "metadata": {},
   "outputs": [
    {
     "name": "stdout",
     "output_type": "stream",
     "text": [
      "['apple', 'mango', 'watermelon', 'Watermelon', 'cherry', 'kiwi', 'orange']\n"
     ]
    }
   ],
   "source": [
    "fruits.insert(1,\"mango\")\n",
    "print(fruits)"
   ]
  },
  {
   "cell_type": "code",
   "execution_count": 23,
   "id": "7f5dc9ff",
   "metadata": {},
   "outputs": [
    {
     "name": "stdout",
     "output_type": "stream",
     "text": [
      "['apple', 'mango', 'watermelon', 'Watermelon', 'kiwi', 'orange']\n"
     ]
    }
   ],
   "source": [
    "fruits.remove(\"cherry\")\n",
    "print(fruits)"
   ]
  },
  {
   "cell_type": "code",
   "execution_count": 24,
   "id": "309a8f0f",
   "metadata": {},
   "outputs": [
    {
     "name": "stdout",
     "output_type": "stream",
     "text": [
      "orange\n",
      "['apple', 'mango', 'watermelon', 'Watermelon', 'kiwi']\n"
     ]
    }
   ],
   "source": [
    "## remove and retuen the last \n",
    "\n",
    "popped_fruits=fruits.pop()\n",
    "print(popped_fruits)\n",
    "print(fruits)"
   ]
  },
  {
   "cell_type": "code",
   "execution_count": 28,
   "id": "53721e60",
   "metadata": {},
   "outputs": [
    {
     "name": "stdout",
     "output_type": "stream",
     "text": [
      "1\n"
     ]
    }
   ],
   "source": [
    "index=fruits.index(\"mango\")\n",
    "print(index)"
   ]
  },
  {
   "cell_type": "code",
   "execution_count": 31,
   "id": "ec7a22d1",
   "metadata": {},
   "outputs": [
    {
     "data": {
      "text/plain": [
       "1"
      ]
     },
     "execution_count": 31,
     "metadata": {},
     "output_type": "execute_result"
    }
   ],
   "source": [
    "fruits.insert(2,\"banana\")\n",
    "fruits.count(\"banana\")\n"
   ]
  },
  {
   "cell_type": "code",
   "execution_count": 34,
   "id": "396ac746",
   "metadata": {},
   "outputs": [
    {
     "data": {
      "text/plain": [
       "['watermelon', 'mango', 'kiwi', 'banana', 'apple', 'Watermelon']"
      ]
     },
     "execution_count": 34,
     "metadata": {},
     "output_type": "execute_result"
    }
   ],
   "source": [
    "fruits.sort() ### sort the list in ascending order\n",
    "\n",
    "fruits.reverse() # Reverse the list\n",
    "\n",
    "fruits"
   ]
  },
  {
   "cell_type": "code",
   "execution_count": null,
   "id": "a7b5ee7b",
   "metadata": {},
   "outputs": [],
   "source": [
    "fruits.clear() #remove all items from lists\n",
    "fruits"
   ]
  }
 ],
 "metadata": {
  "kernelspec": {
   "display_name": "Python 3",
   "language": "python",
   "name": "python3"
  },
  "language_info": {
   "codemirror_mode": {
    "name": "ipython",
    "version": 3
   },
   "file_extension": ".py",
   "mimetype": "text/x-python",
   "name": "python",
   "nbconvert_exporter": "python",
   "pygments_lexer": "ipython3",
   "version": "3.12.0"
  }
 },
 "nbformat": 4,
 "nbformat_minor": 5
}
