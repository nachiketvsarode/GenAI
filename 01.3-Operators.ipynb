{
 "cells": [
  {
   "cell_type": "code",
   "execution_count": 11,
   "id": "c11d015d",
   "metadata": {},
   "outputs": [
    {
     "name": "stdout",
     "output_type": "stream",
     "text": [
      "15\n",
      "5\n",
      "50\n",
      "2.0\n",
      "2\n",
      "0\n",
      "100000\n"
     ]
    }
   ],
   "source": [
    "## Arithmatic operations\n",
    "\n",
    "a=10\n",
    "b=5\n",
    "\n",
    "add_result = a+b #addition\n",
    "sub_result = a-b #subtraction\n",
    "mult_result=a*b #multiplication\n",
    "div_result=a/b #division\n",
    "floor_div_result=a//b #floor division\n",
    "modulus_result=a%b\n",
    "exponent_result=a**b\n",
    "\n",
    "\n",
    "\n",
    "print(add_result)\n",
    "print(sub_result)\n",
    "print(mult_result)\n",
    "print(div_result)\n",
    "print(floor_div_result)\n",
    "print(modulus_result)\n",
    "print(exponent_result)\n",
    "\n"
   ]
  },
  {
   "cell_type": "code",
   "execution_count": 12,
   "id": "f2456fab",
   "metadata": {},
   "outputs": [],
   "source": [
    "### Comparision operators"
   ]
  },
  {
   "cell_type": "code",
   "execution_count": 13,
   "id": "7c70594f",
   "metadata": {},
   "outputs": [
    {
     "data": {
      "text/plain": [
       "True"
      ]
     },
     "execution_count": 13,
     "metadata": {},
     "output_type": "execute_result"
    }
   ],
   "source": [
    "# comparision operators\n",
    "\n",
    "## == Equal to operator\n",
    "\n",
    "a=10\n",
    "b=10\n",
    "\n",
    "a==b\n",
    "\n",
    "\n"
   ]
  },
  {
   "cell_type": "code",
   "execution_count": 14,
   "id": "00ae2da5",
   "metadata": {},
   "outputs": [
    {
     "data": {
      "text/plain": [
       "False"
      ]
     },
     "execution_count": 14,
     "metadata": {},
     "output_type": "execute_result"
    }
   ],
   "source": [
    "str1=\"nachiket\"\n",
    "str2=\"Nachiket\"\n",
    "\n",
    "str1==str2\n"
   ]
  },
  {
   "cell_type": "code",
   "execution_count": 15,
   "id": "2a44b98e",
   "metadata": {},
   "outputs": [
    {
     "data": {
      "text/plain": [
       "True"
      ]
     },
     "execution_count": 15,
     "metadata": {},
     "output_type": "execute_result"
    }
   ],
   "source": [
    "# not equal to !=\n",
    "\n",
    "str3=\"Nachiket\"\n",
    "str4=\"nachiket\"\n",
    "\n",
    "str3!=str4\n"
   ]
  },
  {
   "cell_type": "code",
   "execution_count": 16,
   "id": "78c426a1",
   "metadata": {},
   "outputs": [
    {
     "data": {
      "text/plain": [
       "False"
      ]
     },
     "execution_count": 16,
     "metadata": {},
     "output_type": "execute_result"
    }
   ],
   "source": [
    "# greater than\n",
    "\n",
    "num1=45\n",
    "num2=55\n",
    "\n",
    "num1>num2\n",
    "\n"
   ]
  },
  {
   "cell_type": "code",
   "execution_count": 17,
   "id": "43b93df3",
   "metadata": {},
   "outputs": [
    {
     "name": "stdout",
     "output_type": "stream",
     "text": [
      "True\n"
     ]
    }
   ],
   "source": [
    "## less than <\n",
    "print(num1<num2)"
   ]
  },
  {
   "cell_type": "code",
   "execution_count": 18,
   "id": "98da9af5",
   "metadata": {},
   "outputs": [
    {
     "name": "stdout",
     "output_type": "stream",
     "text": [
      "True\n"
     ]
    }
   ],
   "source": [
    "#grater than or equal to \n",
    "number1=45\n",
    "number2=45\n",
    "\n",
    "print(number1<=number2)\n",
    "\n"
   ]
  },
  {
   "cell_type": "code",
   "execution_count": 19,
   "id": "5edbabc7",
   "metadata": {},
   "outputs": [],
   "source": [
    "#### Logical operators\n"
   ]
  },
  {
   "cell_type": "code",
   "execution_count": 20,
   "id": "071ff41c",
   "metadata": {},
   "outputs": [
    {
     "name": "stdout",
     "output_type": "stream",
     "text": [
      "True\n"
     ]
    }
   ],
   "source": [
    "## AND OR NOT\n",
    "\n",
    "#and - when both true result is true\n",
    "x=True\n",
    "y=True\n",
    "\n",
    "result = x and y \n",
    "print(result)\n",
    "\n",
    "\n",
    "\n",
    "\n"
   ]
  },
  {
   "cell_type": "code",
   "execution_count": 21,
   "id": "52ff353e",
   "metadata": {},
   "outputs": [
    {
     "name": "stdout",
     "output_type": "stream",
     "text": [
      "True\n"
     ]
    }
   ],
   "source": [
    "#or - either of  false or both are false then its false\n",
    "\n",
    "a=True\n",
    "b=False \n",
    "\n",
    "result1= a or b\n",
    "print(result1)"
   ]
  },
  {
   "cell_type": "code",
   "execution_count": 24,
   "id": "fab5e41d",
   "metadata": {},
   "outputs": [
    {
     "data": {
      "text/plain": [
       "False"
      ]
     },
     "execution_count": 24,
     "metadata": {},
     "output_type": "execute_result"
    }
   ],
   "source": [
    "# Not operator\n",
    "\n",
    "x=True\n",
    "not x\n",
    "\n"
   ]
  },
  {
   "cell_type": "code",
   "execution_count": null,
   "id": "3a643987",
   "metadata": {},
   "outputs": [],
   "source": []
  }
 ],
 "metadata": {
  "kernelspec": {
   "display_name": "Python 3",
   "language": "python",
   "name": "python3"
  },
  "language_info": {
   "codemirror_mode": {
    "name": "ipython",
    "version": 3
   },
   "file_extension": ".py",
   "mimetype": "text/x-python",
   "name": "python",
   "nbconvert_exporter": "python",
   "pygments_lexer": "ipython3",
   "version": "3.12.0"
  }
 },
 "nbformat": 4,
 "nbformat_minor": 5
}
